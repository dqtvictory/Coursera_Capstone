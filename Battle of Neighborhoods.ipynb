{
 "cells": [
  {
   "cell_type": "markdown",
   "metadata": {},
   "source": [
    "# The Battle of Neighborhoods\n",
    "\n",
    "This is the Capstone Project of the IBM Data Science Professional Certificate on Coursera.org. Link to the full courses: https://www.coursera.org/professional-certificates/ibm-data-science\n",
    "\n",
    "__Author: Dam Quang Trung__\n",
    "\n",
    "__Date of Publication: April, 2020__"
   ]
  },
  {
   "cell_type": "markdown",
   "metadata": {},
   "source": [
    "### Background\n",
    "\n",
    "Paris, France is where I live. This city is remarkably dynamic and diversified with lots of ethnic groups as well as religions and income classes. With millions of habitants within the city, plus over 3 times more of that in the suburbs, health care is one of the most important services in people's everyday life. France is the nation with top-notched health care system providing low-cost service of very high quality to its vast majority of population, where the Social Security takes care of 70% of nearly all medical-related fees, therefore health care is almost available to everybody.\n",
    "\n",
    "However, due to the popularity of public health care, it is sometimes not very easy to get a next-day appointment with the doctor, or have one's wisdom tooth extracted within the week when it starts to cause pain. Hospitals can sometimes be filled with patients from all working classes that wealthier patients may desire more privacy they don't have. Thus, private medical service providers can tailor to the needs of these patients, by supplying beds and chambers with greater privacy and utilities, better meals and personal services, access to top-of-the-line equipments and medicine, and so on. It's worth noting that the national Social Security only pays for 70% of ***conventionned*** medical-related fees, meaning for example a doctor's consultation is conventionned at 23.00 euros, therefore one is reimbursed _23.00 * 0.7 = 16.10_ for each consultation. Of course this leaves 6.90 euros left to be paid for the conventionned price, plus more if the doctor sets his or her price higher.\n",
    "\n",
    "### Project Objectives\n",
    "\n",
    "This project seeks to explore the city of Paris, the capital of France, and its neighborhoods to find the best location(s) to start a business in providing high-end medical services. In other words, I would like to open a private clinic in Paris for patients with high income, where should I look in Paris?\n",
    "\n",
    "\n",
    "### Who is this project for?\n",
    "\n",
    "This project can be utilized by entrepreneurs in the medical care industry as a reference. The codes in this project notebook are open-sourced and free to be used elsewhere.\n",
    "\n",
    "\n",
    "### Methodologies\n",
    "\n",
    "The following methodologies are used in this project in order to achieve the above objectives:\n",
    "+ Python programming language\n",
    "+ Web scraping tool: BeautifulSoup\n",
    "+ Machine learning techniques: K-mean clustering, Regression...\n",
    "+ API from Foursquare, Google Maps\n",
    "+ Python libraries: Numpy, Pandas, Matplotlib, Folium...\n",
    "\n",
    "\n",
    "### Data Source\n",
    "\n",
    "I am going to need the following data:\n",
    "+ List of Paris's neighborhoods and population from the website of the Nation Institute of Statistics and Economics Studies of France (INSEE). Link: https://www.insee.fr/fr/statistiques/4228434#consulter\n",
    "+ Population's income from https://www.salairemoyen.com/\n",
    "+ Geodata from Google Maps' API\n",
    "+ Neighborhood exploration from Foursquare's Places API"
   ]
  },
  {
   "cell_type": "code",
   "execution_count": null,
   "metadata": {},
   "outputs": [],
   "source": [
    "import numpy as np\n",
    "import pandas as pd\n",
    "import folium\n",
    "from bs4 import BeautifulSoup\n",
    "import matplotlib.pyplot as plt"
   ]
  }
 ],
 "metadata": {
  "kernelspec": {
   "display_name": "Python 3",
   "language": "python",
   "name": "python3"
  },
  "language_info": {
   "codemirror_mode": {
    "name": "ipython",
    "version": 3
   },
   "file_extension": ".py",
   "mimetype": "text/x-python",
   "name": "python",
   "nbconvert_exporter": "python",
   "pygments_lexer": "ipython3",
   "version": "3.8.1"
  }
 },
 "nbformat": 4,
 "nbformat_minor": 4
}
